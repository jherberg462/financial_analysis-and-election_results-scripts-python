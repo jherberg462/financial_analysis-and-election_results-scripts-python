{
 "cells": [
  {
   "cell_type": "code",
   "execution_count": 2,
   "metadata": {},
   "outputs": [],
   "source": [
    "#import dependencies \n",
    "import os\n",
    "import csv\n",
    "import pandas as pd"
   ]
  },
  {
   "cell_type": "code",
   "execution_count": 3,
   "metadata": {},
   "outputs": [],
   "source": [
    "voter_id = [] #create empty lists for election results\n",
    "county = []\n",
    "canidate = []"
   ]
  },
  {
   "cell_type": "markdown",
   "metadata": {},
   "source": [
    "## information needed\n",
    "\n",
    "#The total number of votes cast\n",
    "#A complete list of candidates who received votes\n",
    "#The percentage of votes each candidate won\n",
    "#The total number of votes each candidate won\n",
    "#The winner of the election based on popular vote."
   ]
  },
  {
   "cell_type": "code",
   "execution_count": 4,
   "metadata": {},
   "outputs": [],
   "source": [
    "datapath = \"data/election_data.csv\"\n",
    "with open (datapath, newline='') as csv_results: #open csv file via path defined in above line\n",
    "    csv_read = csv.reader(csv_results, delimiter=',')\n",
    "    for row in csv_read: \n",
    "        voter_id.append(row[0]) #create lists with voter ID, county and the canidate voted for\n",
    "        county.append(row[1]) #look at data to see if we need to import all this data\n",
    "        canidate.append(row[2])"
   ]
  },
  {
   "cell_type": "code",
   "execution_count": 5,
   "metadata": {},
   "outputs": [
    {
     "data": {
      "text/plain": [
       "3521002"
      ]
     },
     "execution_count": 5,
     "metadata": {},
     "output_type": "execute_result"
    }
   ],
   "source": [
    "#get number of votes cast\n",
    "num_votes = len(voter_id)\n",
    "num_votes"
   ]
  },
  {
   "cell_type": "code",
   "execution_count": 6,
   "metadata": {},
   "outputs": [
    {
     "data": {
      "text/plain": [
       "['Candidate', 'Khan', 'Correy', 'Li', \"O'Tooley\"]"
      ]
     },
     "execution_count": 6,
     "metadata": {},
     "output_type": "execute_result"
    }
   ],
   "source": [
    "#create empty list of canidates who received votes\n",
    "received_votes = []\n",
    "\n",
    "#create loop\n",
    "for x in range(len(canidate)):\n",
    "    if canidate[x] not in received_votes:\n",
    "        received_votes.append(canidate[x])\n",
    "received_votes"
   ]
  },
  {
   "cell_type": "code",
   "execution_count": 7,
   "metadata": {},
   "outputs": [],
   "source": [
    "#create variables to count the number of votes for each candidate \n",
    "Khan = 0\n",
    "Correy = 0\n",
    "Li = 0\n",
    "O_Tooley = 0"
   ]
  },
  {
   "cell_type": "code",
   "execution_count": null,
   "metadata": {},
   "outputs": [],
   "source": []
  },
  {
   "cell_type": "code",
   "execution_count": 8,
   "metadata": {},
   "outputs": [
    {
     "name": "stdout",
     "output_type": "stream",
     "text": [
      "2218231\n",
      "704200\n",
      "492940\n",
      "105630\n"
     ]
    }
   ],
   "source": [
    "#create loop to count each vote\n",
    "for x in range(len(canidate)):\n",
    "    if canidate[x] == \"Khan\":\n",
    "        Khan = Khan + 1 #if Khan received a vote, add one to his vote count\n",
    "    elif canidate[x] == \"Correy\":\n",
    "        Correy = Correy + 1\n",
    "    elif canidate[x] == \"Li\":\n",
    "        Li = Li + 1\n",
    "    elif canidate[x] == \"O'Tooley\":\n",
    "        O_Tooley = O_Tooley + 1\n",
    "\n",
    "print (Khan)\n",
    "print (Correy)\n",
    "print (Li)\n",
    "print (O_Tooley)"
   ]
  },
  {
   "cell_type": "code",
   "execution_count": 22,
   "metadata": {},
   "outputs": [],
   "source": [
    "#find the number of votes the winning canidate received\n",
    "win_num_votes = max(Khan, Correy, Li, O_Tooley)\n",
    "\n",
    "canidate_list = [Khan, Correy, Li, O_Tooley] #create list with all canidates \n",
    "high_vote = [] #create empty list\n",
    "\n",
    "for canidate in canidate_list:\n",
    "    if canidate == win_num_votes:\n",
    "        high_vote.append(canidate)\n",
    "\n",
    "if len(high_vote) == 1: #conditional statement to check for a tie\n",
    "    is_tie = False\n",
    "else:\n",
    "    is_tie = True\n",
    "\n"
   ]
  },
  {
   "cell_type": "code",
   "execution_count": 24,
   "metadata": {},
   "outputs": [
    {
     "data": {
      "text/plain": [
       "'Khan'"
      ]
     },
     "execution_count": 24,
     "metadata": {},
     "output_type": "execute_result"
    }
   ],
   "source": [
    "if is_tie == True:\n",
    "    win = str(len(high_vote) + \" way tie\") #check if two canidates both received the high number of votes\n",
    "elif win_num_votes == Khan:\n",
    "    win = 'Khan' #assign Khan as the winning if he received the number of votes that was the most number of votes\n",
    "elif win_num_votes == Correy:\n",
    "    win = 'Correy'\n",
    "elif win_num_votes == Li:\n",
    "    win = 'Li'\n",
    "elif win_num_votes == O_Tooley:\n",
    "    win = \"O'Tooley\"\n",
    "\n",
    "win"
   ]
  },
  {
   "cell_type": "code",
   "execution_count": 25,
   "metadata": {},
   "outputs": [
    {
     "name": "stdout",
     "output_type": "stream",
     "text": [
      "Election Results\n",
      "----------------\n",
      "Total Votes: 3521002\n",
      "----------------\n",
      "Khan: 63.0%, (2218231)\n",
      "Correy: 20.0%, (704200)\n",
      "Li: 14.0%, (492940)\n",
      "O'Tooley: 3.0%, (105630)\n",
      "----------------\n",
      "Winner: Khan\n",
      "----------------\n"
     ]
    }
   ],
   "source": [
    "#print results\n",
    "print(f'Election Results')\n",
    "print(f'----------------')\n",
    "print(f'Total Votes: {num_votes}')\n",
    "print(f'----------------')\n",
    "print(f'Khan: {round((Khan/num_votes) * 100, 3)}%, ({Khan})')\n",
    "print(f'Correy: {round((Correy/num_votes) * 100, 3)}%, ({Correy})')\n",
    "print(f'Li: {round((Li/num_votes) * 100, 3)}%, ({Li})')\n",
    "print(\"O'Tooley: \" + f'{round((O_Tooley/num_votes) * 100, 3)}%, ({O_Tooley})')\n",
    "print(f'----------------')\n",
    "print(f'Winner: {win}')\n",
    "print(f'----------------')\n",
    "\n"
   ]
  },
  {
   "cell_type": "code",
   "execution_count": null,
   "metadata": {},
   "outputs": [],
   "source": []
  },
  {
   "cell_type": "code",
   "execution_count": null,
   "metadata": {},
   "outputs": [],
   "source": []
  }
 ],
 "metadata": {
  "kernelspec": {
   "display_name": "Python 3",
   "language": "python",
   "name": "python3"
  },
  "language_info": {
   "codemirror_mode": {
    "name": "ipython",
    "version": 3
   },
   "file_extension": ".py",
   "mimetype": "text/x-python",
   "name": "python",
   "nbconvert_exporter": "python",
   "pygments_lexer": "ipython3",
   "version": "3.7.3"
  }
 },
 "nbformat": 4,
 "nbformat_minor": 2
}
