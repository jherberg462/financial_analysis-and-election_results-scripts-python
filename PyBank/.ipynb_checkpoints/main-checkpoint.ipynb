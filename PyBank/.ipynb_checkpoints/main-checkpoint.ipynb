{
 "cells": [
  {
   "cell_type": "code",
   "execution_count": 1,
   "metadata": {},
   "outputs": [],
   "source": [
    "#import dependencies \n",
    "import os\n",
    "import csv\n",
    "import pandas as pd #dont need pandas, but good practice to inport it"
   ]
  },
  {
   "cell_type": "code",
   "execution_count": 2,
   "metadata": {},
   "outputs": [],
   "source": [
    "monthly_profit = [] #create empty lists for the monthly profit and the month\n",
    "month_year = []"
   ]
  },
  {
   "cell_type": "code",
   "execution_count": 3,
   "metadata": {},
   "outputs": [],
   "source": [
    "datapath = \"data/budget_data.csv\"\n",
    "with open (datapath, newline='') as csv_results: #open csv file via path defined in above line\n",
    "    csv_read = csv.reader(csv_results, delimiter=',')\n",
    "    csvheader = next(csv_read)\n",
    "    for row in csv_read: \n",
    "        month_year.append(row[0]) #create lists with the date and monthly profit based on the data\n",
    "        monthly_profit.append(int(row[1])) \n"
   ]
  },
  {
   "cell_type": "code",
   "execution_count": 4,
   "metadata": {},
   "outputs": [],
   "source": [
    "#calculate number of months\n",
    "num_months = len(month_year)"
   ]
  },
  {
   "cell_type": "code",
   "execution_count": 5,
   "metadata": {},
   "outputs": [],
   "source": [
    "#calculate total profit over period\n",
    "profit = 0\n",
    "for month in monthly_profit:\n",
    "    profit = profit + month"
   ]
  },
  {
   "cell_type": "code",
   "execution_count": 6,
   "metadata": {},
   "outputs": [],
   "source": [
    "#generate list of differences in profit between months\n",
    "profit_difference = [] #create empty list\n",
    "for x in range(1, len(monthly_profit)):\n",
    "    profit_difference.append(monthly_profit[x] - monthly_profit[x - 1])\n",
    "\n"
   ]
  },
  {
   "cell_type": "code",
   "execution_count": 7,
   "metadata": {},
   "outputs": [],
   "source": [
    "#divide the sum of the total profit difference by the length of the differences in monthly profit list\n",
    "average_delta_profit = sum(profit_difference) / len(profit_difference) \n",
    "average_delta_profit = round(average_delta_profit, 2) #round to the nearest cent"
   ]
  },
  {
   "cell_type": "code",
   "execution_count": 8,
   "metadata": {},
   "outputs": [],
   "source": [
    "high_profit_difference = max(profit_difference) #find highest difference in monthly profits\n"
   ]
  },
  {
   "cell_type": "code",
   "execution_count": 9,
   "metadata": {},
   "outputs": [],
   "source": [
    "biggest_profit_decline = min(profit_difference) #find highest decline in monthly profit"
   ]
  },
  {
   "cell_type": "code",
   "execution_count": 10,
   "metadata": {},
   "outputs": [],
   "source": [
    "#find index of the highest increase and decline of monthly profit\n",
    "increase_index = profit_difference.index(high_profit_difference) \n",
    "decline_index = profit_difference.index(biggest_profit_decline)\n",
    "\n",
    "#need to add 1 to both values so the index number will be properly mapped to the month_year list\n",
    "#the profit difference list has one less value \n",
    "increase_index = increase_index + 1\n",
    "decline_index = decline_index + 1\n"
   ]
  },
  {
   "cell_type": "code",
   "execution_count": 11,
   "metadata": {},
   "outputs": [],
   "source": [
    "profit_increase_month = month_year[increase_index] #find the month/year of the biggest profit increase\n",
    "profit_decline_month = month_year[decline_index]\n"
   ]
  },
  {
   "cell_type": "code",
   "execution_count": 12,
   "metadata": {},
   "outputs": [
    {
     "name": "stdout",
     "output_type": "stream",
     "text": [
      "Financial Analysis\n",
      "----------------------------\n",
      "Total Months: 86\n",
      "Total Profit: 38382578\n",
      "Average Change in Monthly Profit: -2315.12\n",
      "Greatest Increase in Monthly Profit: Feb-2012 ($1926159)\n",
      "Largest Decline in Monthly Profit: Sep-2013 ($-2196167)\n"
     ]
    }
   ],
   "source": [
    "#print summary of findings\n",
    "print('Financial Analysis')\n",
    "print('----------------------------')\n",
    "print(f'Total Months: {num_months}')\n",
    "print(f'Total Profit: {profit}')\n",
    "print(f'Average Change in Monthly Profit: {average_delta_profit}')\n",
    "print(f'Greatest Increase in Monthly Profit: {profit_increase_month} (${high_profit_difference})')\n",
    "print(f'Largest Decline in Monthly Profit: {profit_decline_month} (${biggest_profit_decline})')"
   ]
  },
  {
   "cell_type": "code",
   "execution_count": 13,
   "metadata": {},
   "outputs": [],
   "source": [
    "#create list of a summary of data\n",
    "summary_list = [num_months, profit, average_delta_profit, profit_increase_month, high_profit_difference, \n",
    "               profit_decline_month, biggest_profit_decline]"
   ]
  },
  {
   "cell_type": "code",
   "execution_count": 14,
   "metadata": {},
   "outputs": [],
   "source": [
    "#create output path for csv file\n",
    "outputpath = 'data/financial_summary.csv'"
   ]
  },
  {
   "cell_type": "code",
   "execution_count": 15,
   "metadata": {},
   "outputs": [],
   "source": [
    "with open(outputpath, 'w', newline='') as csvfile:\n",
    "    csvwriter = csv.writer(csvfile, delimiter = ',') #create the csv file and set the delimiter\n",
    "    csvwriter.writerow(['Number of Months', 'Profit', 'Average Change in Profit', \"Month/Year of Largest Profit Increase\",\n",
    "                        \"Largest Profit Increase\", \"Month/Year of Largest Profit Decline\",\n",
    "                        'Largest Profit Decline']) #create header row\n",
    "    csvwriter.writerow(summary_list)\n",
    "    #output data to csvfile"
   ]
  },
  {
   "cell_type": "code",
   "execution_count": null,
   "metadata": {},
   "outputs": [],
   "source": []
  }
 ],
 "metadata": {
  "kernelspec": {
   "display_name": "Python 3",
   "language": "python",
   "name": "python3"
  },
  "language_info": {
   "codemirror_mode": {
    "name": "ipython",
    "version": 3
   },
   "file_extension": ".py",
   "mimetype": "text/x-python",
   "name": "python",
   "nbconvert_exporter": "python",
   "pygments_lexer": "ipython3",
   "version": "3.7.3"
  }
 },
 "nbformat": 4,
 "nbformat_minor": 2
}
